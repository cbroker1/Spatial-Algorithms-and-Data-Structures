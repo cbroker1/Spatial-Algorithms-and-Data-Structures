{
 "cells": [
  {
   "cell_type": "markdown",
   "metadata": {},
   "source": [
    "#### Name: {Broker}, {Carl}\n",
    "#### Assignment: {7}"
   ]
  },
  {
   "cell_type": "markdown",
   "metadata": {},
   "source": [
    "### Instructions\n",
    "For each assignment use the provided template.  Use proper markdown and coding syntax.  \n",
    "\n",
    "If you have note used Jupyter Notebooks before, please review: https://realpython.com/jupyter-notebook-introduction/"
   ]
  },
  {
   "cell_type": "markdown",
   "metadata": {},
   "source": [
    "GIS Algorithms textbook\n",
    "\n",
    "Questions: R12.1, R12.2, R 12.3, R 12.17"
   ]
  },
  {
   "cell_type": "markdown",
   "metadata": {},
   "source": [
    "# R 12.1: Give a complete justification of Proposition 12.1."
   ]
  },
  {
   "cell_type": "markdown",
   "metadata": {},
   "source": [
    "Divide-and-conquer - for each peice in a sequence of size n there is one node for each piece. The merge-sort tree is binary with exactly n exterior nodes."
   ]
  },
  {
   "cell_type": "markdown",
   "metadata": {},
   "source": [
    "# R 12.2: In the merge-sort tree shown in Figures 12.2 through 12.4, some edges are drawn as arrows. What is the meaning of a downward arrow? How about an upward arrow?"
   ]
  },
  {
   "cell_type": "markdown",
   "metadata": {},
   "source": [
    "The downward arrows signify recursion, a call of merge sort. The upward arrows represent the return of a recursive call. "
   ]
  },
  {
   "cell_type": "markdown",
   "metadata": {},
   "source": [
    "# R 12.3 Show that the running time of the merge-sort algorithm on an n-element sequence is O(nlog n), even when n is not a power of 2."
   ]
  },
  {
   "cell_type": "markdown",
   "metadata": {},
   "source": [
    "The merge sort makes two recursive calls of size n/2. 2T(n/2) and merge operation takes O(n) operations.\n",
    "\n",
    "So, recurrence relation is T(n) = 2T(n/2) + O(n)\n",
    "\n",
    "What ever the value of n is, time complexity of merge sort is O(n log n)"
   ]
  },
  {
   "cell_type": "markdown",
   "metadata": {},
   "source": [
    "# R 12.17: Is the bucket-sort algorithm in-place? Why or why not?"
   ]
  },
  {
   "cell_type": "markdown",
   "metadata": {},
   "source": [
    "No, the bucket sort algorithm is not in place. This is because bucket-sort doesn’t use a constant amount of additional storage. It uses O (n + N) space."
   ]
  },
  {
   "cell_type": "markdown",
   "metadata": {},
   "source": [
    "End of notebook. -CJB 10/20/19"
   ]
  }
 ],
 "metadata": {
  "kernelspec": {
   "display_name": "gis",
   "language": "python",
   "name": "gis"
  },
  "language_info": {
   "codemirror_mode": {
    "name": "ipython",
    "version": 3
   },
   "file_extension": ".py",
   "mimetype": "text/x-python",
   "name": "python",
   "nbconvert_exporter": "python",
   "pygments_lexer": "ipython3",
   "version": "3.7.4"
  }
 },
 "nbformat": 4,
 "nbformat_minor": 2
}
