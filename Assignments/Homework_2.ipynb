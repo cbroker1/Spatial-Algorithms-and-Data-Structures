{
 "cells": [
  {
   "cell_type": "markdown",
   "metadata": {},
   "source": [
    "#### Name: {Broker}, {Carl}\n",
    "#### Assignment: {2}"
   ]
  },
  {
   "cell_type": "markdown",
   "metadata": {},
   "source": [
    "### Instructions\n",
    "For each assignment use the provided template.  Use proper markdown and coding syntax.  \n",
    "\n",
    "If you have note used Jupyter Notebooks before, please review: https://realpython.com/jupyter-notebook-introduction/"
   ]
  },
  {
   "cell_type": "markdown",
   "metadata": {},
   "source": [
    "Questions: Data Structures and Algorithms textbook - Questions: R2.4, R2.5, R2.9, P2.34."
   ]
  },
  {
   "cell_type": "markdown",
   "metadata": {},
   "source": [
    "R-2.4 Write a Python class, Flower, that has three instance variables of type str,\n",
    "int, and float, that respectively represent the name of the flower, its number of petals, and its price. Your class must include a constructor method\n",
    "that initializes each variable to an appropriate value, and your class should\n",
    "include methods for setting the value of each type, and retrieving the value\n",
    "of each type"
   ]
  },
  {
   "cell_type": "code",
   "execution_count": 1,
   "metadata": {},
   "outputs": [],
   "source": [
    "class Flower:\n",
    "    def __init__(self, name, petals, price):\n",
    "        self._name = name\n",
    "        self._petals = petals\n",
    "        self._price = price\n",
    "        \n",
    "    def get_name(self):\n",
    "        if isinstance(self._name, str):\n",
    "            return '{}'.format(self._name)\n",
    "        else:\n",
    "            raise TypeError('The name of the flower is not in string format!')\n",
    "    \n",
    "    def get_petals(self):\n",
    "        if isinstance(self._petals, int):\n",
    "            return '{}'.format(self._petals)\n",
    "        else:\n",
    "            raise TypeError('The number of petals is not in an integer format!')\n",
    "    \n",
    "    def get_price(self):\n",
    "        if isinstance(self._price, float):\n",
    "            return '{}'.format(self._price)\n",
    "        else:\n",
    "            raise TypeError('The price of the flower is not a float format!')"
   ]
  },
  {
   "cell_type": "code",
   "execution_count": 2,
   "metadata": {},
   "outputs": [
    {
     "name": "stdout",
     "output_type": "stream",
     "text": [
      "flower:\n",
      "Rose\n",
      "5\n",
      "3.49\n"
     ]
    }
   ],
   "source": [
    "#proof of functionality\n",
    "flower = Flower('Rose', 5, 3.49)\n",
    "\n",
    "print('flower:')\n",
    "print(flower.get_name())\n",
    "print(flower.get_petals())\n",
    "print(flower.get_price())"
   ]
  },
  {
   "cell_type": "code",
   "execution_count": 3,
   "metadata": {},
   "outputs": [
    {
     "name": "stdout",
     "output_type": "stream",
     "text": [
      "flower_1:\n"
     ]
    },
    {
     "ename": "TypeError",
     "evalue": "The name of the flower is not in string format!",
     "output_type": "error",
     "traceback": [
      "\u001b[1;31m---------------------------------------------------------------------------\u001b[0m",
      "\u001b[1;31mTypeError\u001b[0m                                 Traceback (most recent call last)",
      "\u001b[1;32m<ipython-input-3-9914b5da66cf>\u001b[0m in \u001b[0;36m<module>\u001b[1;34m\u001b[0m\n\u001b[0;32m      3\u001b[0m \u001b[1;33m\u001b[0m\u001b[0m\n\u001b[0;32m      4\u001b[0m \u001b[0mprint\u001b[0m\u001b[1;33m(\u001b[0m\u001b[1;34m'flower_1:'\u001b[0m\u001b[1;33m)\u001b[0m\u001b[1;33m\u001b[0m\u001b[1;33m\u001b[0m\u001b[0m\n\u001b[1;32m----> 5\u001b[1;33m \u001b[0mprint\u001b[0m\u001b[1;33m(\u001b[0m\u001b[0mflower_1\u001b[0m\u001b[1;33m.\u001b[0m\u001b[0mget_name\u001b[0m\u001b[1;33m(\u001b[0m\u001b[1;33m)\u001b[0m\u001b[1;33m)\u001b[0m\u001b[1;33m\u001b[0m\u001b[1;33m\u001b[0m\u001b[0m\n\u001b[0m\u001b[0;32m      6\u001b[0m \u001b[0mprint\u001b[0m\u001b[1;33m(\u001b[0m\u001b[0mflower_1\u001b[0m\u001b[1;33m.\u001b[0m\u001b[0mget_petals\u001b[0m\u001b[1;33m(\u001b[0m\u001b[1;33m)\u001b[0m\u001b[1;33m)\u001b[0m\u001b[1;33m\u001b[0m\u001b[1;33m\u001b[0m\u001b[0m\n\u001b[0;32m      7\u001b[0m \u001b[0mprint\u001b[0m\u001b[1;33m(\u001b[0m\u001b[0mflower_1\u001b[0m\u001b[1;33m.\u001b[0m\u001b[0mget_price\u001b[0m\u001b[1;33m(\u001b[0m\u001b[1;33m)\u001b[0m\u001b[1;33m)\u001b[0m\u001b[1;33m\u001b[0m\u001b[1;33m\u001b[0m\u001b[0m\n",
      "\u001b[1;32m<ipython-input-1-e9e88fcf1d18>\u001b[0m in \u001b[0;36mget_name\u001b[1;34m(self)\u001b[0m\n\u001b[0;32m      9\u001b[0m             \u001b[1;32mreturn\u001b[0m \u001b[1;34m'{}'\u001b[0m\u001b[1;33m.\u001b[0m\u001b[0mformat\u001b[0m\u001b[1;33m(\u001b[0m\u001b[0mself\u001b[0m\u001b[1;33m.\u001b[0m\u001b[0m_name\u001b[0m\u001b[1;33m)\u001b[0m\u001b[1;33m\u001b[0m\u001b[1;33m\u001b[0m\u001b[0m\n\u001b[0;32m     10\u001b[0m         \u001b[1;32melse\u001b[0m\u001b[1;33m:\u001b[0m\u001b[1;33m\u001b[0m\u001b[1;33m\u001b[0m\u001b[0m\n\u001b[1;32m---> 11\u001b[1;33m             \u001b[1;32mraise\u001b[0m \u001b[0mTypeError\u001b[0m\u001b[1;33m(\u001b[0m\u001b[1;34m'The name of the flower is not in string format!'\u001b[0m\u001b[1;33m)\u001b[0m\u001b[1;33m\u001b[0m\u001b[1;33m\u001b[0m\u001b[0m\n\u001b[0m\u001b[0;32m     12\u001b[0m \u001b[1;33m\u001b[0m\u001b[0m\n\u001b[0;32m     13\u001b[0m     \u001b[1;32mdef\u001b[0m \u001b[0mget_petals\u001b[0m\u001b[1;33m(\u001b[0m\u001b[0mself\u001b[0m\u001b[1;33m)\u001b[0m\u001b[1;33m:\u001b[0m\u001b[1;33m\u001b[0m\u001b[1;33m\u001b[0m\u001b[0m\n",
      "\u001b[1;31mTypeError\u001b[0m: The name of the flower is not in string format!"
     ]
    }
   ],
   "source": [
    "#depiction of flower_name() TypeError() 'check'\n",
    "flower_1 = Flower(2342, 5, 3.49)\n",
    "\n",
    "print('flower_1:')\n",
    "print(flower_1.get_name())\n",
    "print(flower_1.get_petals())\n",
    "print(flower_1.get_price())"
   ]
  },
  {
   "cell_type": "code",
   "execution_count": 4,
   "metadata": {},
   "outputs": [
    {
     "name": "stdout",
     "output_type": "stream",
     "text": [
      "flower_2:\n",
      "Rose\n"
     ]
    },
    {
     "ename": "TypeError",
     "evalue": "The number of petals is not in an integer format!",
     "output_type": "error",
     "traceback": [
      "\u001b[1;31m---------------------------------------------------------------------------\u001b[0m",
      "\u001b[1;31mTypeError\u001b[0m                                 Traceback (most recent call last)",
      "\u001b[1;32m<ipython-input-4-12567c1d62a5>\u001b[0m in \u001b[0;36m<module>\u001b[1;34m\u001b[0m\n\u001b[0;32m      4\u001b[0m \u001b[0mprint\u001b[0m\u001b[1;33m(\u001b[0m\u001b[1;34m'flower_2:'\u001b[0m\u001b[1;33m)\u001b[0m\u001b[1;33m\u001b[0m\u001b[1;33m\u001b[0m\u001b[0m\n\u001b[0;32m      5\u001b[0m \u001b[0mprint\u001b[0m\u001b[1;33m(\u001b[0m\u001b[0mflower_2\u001b[0m\u001b[1;33m.\u001b[0m\u001b[0mget_name\u001b[0m\u001b[1;33m(\u001b[0m\u001b[1;33m)\u001b[0m\u001b[1;33m)\u001b[0m\u001b[1;33m\u001b[0m\u001b[1;33m\u001b[0m\u001b[0m\n\u001b[1;32m----> 6\u001b[1;33m \u001b[0mprint\u001b[0m\u001b[1;33m(\u001b[0m\u001b[0mflower_2\u001b[0m\u001b[1;33m.\u001b[0m\u001b[0mget_petals\u001b[0m\u001b[1;33m(\u001b[0m\u001b[1;33m)\u001b[0m\u001b[1;33m)\u001b[0m\u001b[1;33m\u001b[0m\u001b[1;33m\u001b[0m\u001b[0m\n\u001b[0m\u001b[0;32m      7\u001b[0m \u001b[0mprint\u001b[0m\u001b[1;33m(\u001b[0m\u001b[0mflower_2\u001b[0m\u001b[1;33m.\u001b[0m\u001b[0mget_price\u001b[0m\u001b[1;33m(\u001b[0m\u001b[1;33m)\u001b[0m\u001b[1;33m)\u001b[0m\u001b[1;33m\u001b[0m\u001b[1;33m\u001b[0m\u001b[0m\n",
      "\u001b[1;32m<ipython-input-1-e9e88fcf1d18>\u001b[0m in \u001b[0;36mget_petals\u001b[1;34m(self)\u001b[0m\n\u001b[0;32m     15\u001b[0m             \u001b[1;32mreturn\u001b[0m \u001b[1;34m'{}'\u001b[0m\u001b[1;33m.\u001b[0m\u001b[0mformat\u001b[0m\u001b[1;33m(\u001b[0m\u001b[0mself\u001b[0m\u001b[1;33m.\u001b[0m\u001b[0m_petals\u001b[0m\u001b[1;33m)\u001b[0m\u001b[1;33m\u001b[0m\u001b[1;33m\u001b[0m\u001b[0m\n\u001b[0;32m     16\u001b[0m         \u001b[1;32melse\u001b[0m\u001b[1;33m:\u001b[0m\u001b[1;33m\u001b[0m\u001b[1;33m\u001b[0m\u001b[0m\n\u001b[1;32m---> 17\u001b[1;33m             \u001b[1;32mraise\u001b[0m \u001b[0mTypeError\u001b[0m\u001b[1;33m(\u001b[0m\u001b[1;34m'The number of petals is not in an integer format!'\u001b[0m\u001b[1;33m)\u001b[0m\u001b[1;33m\u001b[0m\u001b[1;33m\u001b[0m\u001b[0m\n\u001b[0m\u001b[0;32m     18\u001b[0m \u001b[1;33m\u001b[0m\u001b[0m\n\u001b[0;32m     19\u001b[0m     \u001b[1;32mdef\u001b[0m \u001b[0mget_price\u001b[0m\u001b[1;33m(\u001b[0m\u001b[0mself\u001b[0m\u001b[1;33m)\u001b[0m\u001b[1;33m:\u001b[0m\u001b[1;33m\u001b[0m\u001b[1;33m\u001b[0m\u001b[0m\n",
      "\u001b[1;31mTypeError\u001b[0m: The number of petals is not in an integer format!"
     ]
    }
   ],
   "source": [
    "#depiction of flower_petals() TypeError() 'check'\n",
    "flower_2 = Flower('Rose', 'five', 3.49)\n",
    "\n",
    "print('flower_2:')\n",
    "print(flower_2.get_name())\n",
    "print(flower_2.get_petals())\n",
    "print(flower_2.get_price())"
   ]
  },
  {
   "cell_type": "code",
   "execution_count": 5,
   "metadata": {},
   "outputs": [
    {
     "name": "stdout",
     "output_type": "stream",
     "text": [
      "flower_3:\n",
      "Rose\n",
      "5\n"
     ]
    },
    {
     "ename": "TypeError",
     "evalue": "The price of the flower is not a float format!",
     "output_type": "error",
     "traceback": [
      "\u001b[1;31m---------------------------------------------------------------------------\u001b[0m",
      "\u001b[1;31mTypeError\u001b[0m                                 Traceback (most recent call last)",
      "\u001b[1;32m<ipython-input-5-7cf1f0d451ac>\u001b[0m in \u001b[0;36m<module>\u001b[1;34m\u001b[0m\n\u001b[0;32m      5\u001b[0m \u001b[0mprint\u001b[0m\u001b[1;33m(\u001b[0m\u001b[0mflower_3\u001b[0m\u001b[1;33m.\u001b[0m\u001b[0mget_name\u001b[0m\u001b[1;33m(\u001b[0m\u001b[1;33m)\u001b[0m\u001b[1;33m)\u001b[0m\u001b[1;33m\u001b[0m\u001b[1;33m\u001b[0m\u001b[0m\n\u001b[0;32m      6\u001b[0m \u001b[0mprint\u001b[0m\u001b[1;33m(\u001b[0m\u001b[0mflower_3\u001b[0m\u001b[1;33m.\u001b[0m\u001b[0mget_petals\u001b[0m\u001b[1;33m(\u001b[0m\u001b[1;33m)\u001b[0m\u001b[1;33m)\u001b[0m\u001b[1;33m\u001b[0m\u001b[1;33m\u001b[0m\u001b[0m\n\u001b[1;32m----> 7\u001b[1;33m \u001b[0mprint\u001b[0m\u001b[1;33m(\u001b[0m\u001b[0mflower_3\u001b[0m\u001b[1;33m.\u001b[0m\u001b[0mget_price\u001b[0m\u001b[1;33m(\u001b[0m\u001b[1;33m)\u001b[0m\u001b[1;33m)\u001b[0m\u001b[1;33m\u001b[0m\u001b[1;33m\u001b[0m\u001b[0m\n\u001b[0m",
      "\u001b[1;32m<ipython-input-1-e9e88fcf1d18>\u001b[0m in \u001b[0;36mget_price\u001b[1;34m(self)\u001b[0m\n\u001b[0;32m     21\u001b[0m             \u001b[1;32mreturn\u001b[0m \u001b[1;34m'{}'\u001b[0m\u001b[1;33m.\u001b[0m\u001b[0mformat\u001b[0m\u001b[1;33m(\u001b[0m\u001b[0mself\u001b[0m\u001b[1;33m.\u001b[0m\u001b[0m_price\u001b[0m\u001b[1;33m)\u001b[0m\u001b[1;33m\u001b[0m\u001b[1;33m\u001b[0m\u001b[0m\n\u001b[0;32m     22\u001b[0m         \u001b[1;32melse\u001b[0m\u001b[1;33m:\u001b[0m\u001b[1;33m\u001b[0m\u001b[1;33m\u001b[0m\u001b[0m\n\u001b[1;32m---> 23\u001b[1;33m             \u001b[1;32mraise\u001b[0m \u001b[0mTypeError\u001b[0m\u001b[1;33m(\u001b[0m\u001b[1;34m'The price of the flower is not a float format!'\u001b[0m\u001b[1;33m)\u001b[0m\u001b[1;33m\u001b[0m\u001b[1;33m\u001b[0m\u001b[0m\n\u001b[0m",
      "\u001b[1;31mTypeError\u001b[0m: The price of the flower is not a float format!"
     ]
    }
   ],
   "source": [
    "#depiction of flower_price() TypeError() 'check'\n",
    "flower_3 = Flower('Rose', 5, 3)\n",
    "\n",
    "print('flower_3:')\n",
    "print(flower_3.get_name())\n",
    "print(flower_3.get_petals())\n",
    "print(flower_3.get_price())"
   ]
  },
  {
   "cell_type": "markdown",
   "metadata": {},
   "source": [
    "^The first time I've been happy to see errors. "
   ]
  },
  {
   "cell_type": "markdown",
   "metadata": {},
   "source": [
    "R-2.5 Use the techniques of Section 1.7 to revise the charge and make payment\n",
    "methods of the CreditCard class to ensure that the caller sends a number\n",
    "as a parameter"
   ]
  },
  {
   "cell_type": "code",
   "execution_count": 6,
   "metadata": {},
   "outputs": [
    {
     "name": "stdout",
     "output_type": "stream",
     "text": [
      "Customer = John Bowman\n",
      "Bank = California Savings\n",
      "Account = 5391 0375 9387 5309\n",
      "Limit = 2500\n",
      "Balance = 136\n",
      "New balance = 36\n",
      "\n",
      "Customer = John Bowman\n",
      "Bank = California Federal\n",
      "Account = 3485 0399 3395 1954\n",
      "Limit = 3500\n",
      "Balance = 272\n",
      "New balance = 172\n",
      "New balance = 72\n",
      "\n",
      "Customer = John Bowman\n",
      "Bank = California Finance\n",
      "Account = 5391 0375 9387 5309\n",
      "Limit = 5000\n",
      "Balance = 408\n",
      "New balance = 308\n",
      "New balance = 208\n",
      "New balance = 108\n",
      "New balance = 8\n",
      "\n"
     ]
    }
   ],
   "source": [
    "class CreditCard:#A consumer credit card.\n",
    "    def __init__(self, customer, bank, acnt, limit):\n",
    "        #Create a new credit card instance.\n",
    "\n",
    "        #The initial balance is zero.\n",
    "        \n",
    "        #customer the name of the customer (e.g., 'John Bowman')\n",
    "        #bank     the name of the bank (e.g., 'California Savings')\n",
    "        #acnt     the acount identifier (e.g., '5391 0375 9387 5309')\n",
    "        #limit    credit limit (measured in dollars)\n",
    "\n",
    "        self._customer = customer\n",
    "        self._bank = bank\n",
    "        self._account = acnt\n",
    "        self._limit = limit\n",
    "        self._balance = 0\n",
    "        \n",
    "    def get_customer(self):\n",
    "        #Return name of the customer.\n",
    "        return self._customer\n",
    "\n",
    "    def get_bank(self):\n",
    "        #Return the bank s name.\n",
    "        return self._bank\n",
    "\n",
    "    def get_account(self):\n",
    "        #Return the card identifying number (typically stored as a string).\n",
    "        return self._account\n",
    "\n",
    "    def get_limit(self):\n",
    "        #Return current credit limit.\n",
    "        return self._limit\n",
    "\n",
    "    def get_balance(self):\n",
    "        #Return current balance.\n",
    "        return self._balance\n",
    "\n",
    "    def charge(self, price):\n",
    "        #Charge given price to the card, assuming sufficient credit limit.\n",
    "        #Return True if caller supplied account number and charge was processed; False if charge was denied.\n",
    "        \n",
    "        if not isinstance(price, (int, float)):\n",
    "            raise TypeError('price must be numeric') \n",
    "        if price + self._balance > self._limit:\n",
    "            #if charge would exceed limit, cannot accept charge\n",
    "            return False\n",
    "        else:\n",
    "            self._balance += price\n",
    "            return True\n",
    "        \n",
    "    def make_payment(self, amount):\n",
    "        #Process customer payment that reduces balance.\n",
    "        if not isinstance(amount, (int, float)):\n",
    "            raise TypeError('amount must be numeric')\n",
    "        self._balance -= amount\n",
    "        \n",
    "if __name__ == '__main__':    \n",
    "    wallet = []\n",
    "    wallet.append(CreditCard('John Bowman', 'California Savings', '5391 0375 9387 5309', 2500))\n",
    "    wallet.append(CreditCard('John Bowman', 'California Federal', '3485 0399 3395 1954', 3500))\n",
    "    wallet.append(CreditCard('John Bowman', 'California Finance', '5391 0375 9387 5309', 5000))\n",
    "\n",
    "    for val in range(1, 17):\n",
    "        wallet[0].charge(val)\n",
    "        wallet[1].charge(2*val)\n",
    "        wallet[2].charge(3*val)\n",
    "\n",
    "    for c in range(3):\n",
    "        print('Customer =', wallet[c].get_customer())\n",
    "        print('Bank =', wallet[c].get_bank())\n",
    "        print('Account =', wallet[c].get_account())\n",
    "        print('Limit =', wallet[c].get_limit())\n",
    "        print('Balance =', wallet[c].get_balance())\n",
    "        while wallet[c].get_balance() > 100:\n",
    "            wallet[c].make_payment(100)\n",
    "            print('New balance =', wallet[c].get_balance())\n",
    "        print()"
   ]
  },
  {
   "cell_type": "markdown",
   "metadata": {},
   "source": [
    "R-2.9 Implement the sub method for the Vector class of Section 2.3.3, so\n",
    "that the expression u−v returns a new vector instance representing the\n",
    "difference between two vectors."
   ]
  },
  {
   "cell_type": "code",
   "execution_count": 7,
   "metadata": {},
   "outputs": [],
   "source": [
    "class Vector:\n",
    "#Represent a vector in a multidimensional space.\n",
    "\n",
    "    def __init__ (self, d):\n",
    "    #Create d-dimensional vector of zeros.\n",
    "        self._coords = [0]*d\n",
    "\n",
    "    def __len__ (self):\n",
    "    #Return the dimension of the vector.\n",
    "        return len(self._coords)\n",
    "\n",
    "    def __getitem__ (self, j):\n",
    "    #Return jth coordinate of vector.\n",
    "        return self._coords[j]\n",
    "\n",
    "    def __setitem__ (self, j, val):\n",
    "    #Set jth coordinate of vector to given value.\n",
    "        self._coords[j] = val\n",
    "\n",
    "    def __add__ (self, other):\n",
    "    #Return sum of two vectors.\n",
    "        if len(self) != len(other): # relies on len method\n",
    "            raise ValueError('dimensions must agree')\n",
    "        result = Vector(len(self)) # start with vector of zeros\n",
    "        for j in range(len(self)):\n",
    "            result[j] = self[j] + other[j]\n",
    "        return result\n",
    "    \n",
    "    def __sub__(self, other):\n",
    "    #Return difference of two vectors.\n",
    "        if len(self) != len(other): # relies on len method\n",
    "            raise ValueError('dimensions must agree')\n",
    "        result = Vector(len(self))  # start with vector of zeros\n",
    "        for j in range(len(self)):\n",
    "            result[j] = self[j] - other[j]\n",
    "        return result\n",
    "\n",
    "    def __eq__ (self, other):\n",
    "    #Return True if vector has same coordinates as other.\n",
    "        return self._coords == other._coords\n",
    "\n",
    "    def __ne__ (self, other):\n",
    "    #Return True if vector differs from other.\n",
    "        return not self == other # rely on existing eq definition\n",
    "\n",
    "    def __str__ (self):\n",
    "    #Produce string representation of vector.\n",
    "        return '<' + str(self._coords)[1:-1] + '>' # adapt list representation"
   ]
  },
  {
   "cell_type": "markdown",
   "metadata": {},
   "source": [
    "P-2.34 Write a Python program that inputs a document and then outputs a barchart plot of the frequencies of each alphabet character that appears in\n",
    "that document."
   ]
  },
  {
   "cell_type": "code",
   "execution_count": 8,
   "metadata": {},
   "outputs": [],
   "source": [
    "import matplotlib.pyplot as plt\n",
    "\n",
    "with open(\"Book 1 - The Philosopher's Stone.txt\", encoding=\"utf8\") as f: \n",
    "    lines = f.readlines()\n",
    "\n",
    "statistics={}\n",
    "\n",
    "for line in lines:\n",
    "    for char in line.rstrip():\n",
    "        if char in statistics:\n",
    "            statistics[char]+=1\n",
    "        else:\n",
    "            statistics[char]=1\n",
    " \n",
    "index = list(statistics.keys())\n",
    "value = list(statistics.values())"
   ]
  },
  {
   "cell_type": "code",
   "execution_count": 9,
   "metadata": {},
   "outputs": [
    {
     "data": {
      "image/png": "[encoded data removed]",
      "text/plain": [
       "<Figure size 432x288 with 1 Axes>"
      ]
     },
     "metadata": {
      "needs_background": "light"
     },
     "output_type": "display_data"
    }
   ],
   "source": [
    "plt.bar(index, value, width=1, color='b')\n",
    "plt.show()"
   ]
  },
  {
   "cell_type": "code",
   "execution_count": 10,
   "metadata": {},
   "outputs": [
    {
     "data": {
      "text/plain": [
       "{'/': 6,\n",
       " 'T': 1034,\n",
       " 'H': 3372,\n",
       " 'E': 240,\n",
       " ' ': 73044,\n",
       " 'B': 350,\n",
       " 'O': 324,\n",
       " 'Y': 319,\n",
       " 'W': 651,\n",
       " 'L': 207,\n",
       " 'I': 1398,\n",
       " 'V': 191,\n",
       " 'D': 687,\n",
       " 'M': 665,\n",
       " 'r': 22387,\n",
       " '.': 6849,\n",
       " 'a': 26918,\n",
       " 'n': 22375,\n",
       " 'd': 16279,\n",
       " 's': 19558,\n",
       " 'u': 9563,\n",
       " 'l': 15082,\n",
       " 'e': 41351,\n",
       " 'y': 8644,\n",
       " ',': 5658,\n",
       " 'o': 27552,\n",
       " 'f': 6429,\n",
       " 'm': 6733,\n",
       " 'b': 4977,\n",
       " 'P': 1657,\n",
       " 'i': 20094,\n",
       " 'v': 2715,\n",
       " 't': 29335,\n",
       " 'w': 8091,\n",
       " 'p': 5257,\n",
       " 'h': 20532,\n",
       " 'c': 6372,\n",
       " 'k': 3940,\n",
       " '’': 3111,\n",
       " 'x': 380,\n",
       " 'g': 8820,\n",
       " 'j': 315,\n",
       " 'G': 491,\n",
       " '|': 347,\n",
       " '2': 178,\n",
       " 'S': 1184,\n",
       " '-': 705,\n",
       " 'J': 408,\n",
       " 'K': 426,\n",
       " 'R': 989,\n",
       " ';': 133,\n",
       " 'N': 471,\n",
       " 'A': 687,\n",
       " '“': 2437,\n",
       " '”': 2414,\n",
       " '—': 885,\n",
       " 'F': 419,\n",
       " 'z': 259,\n",
       " '?': 763,\n",
       " '3': 131,\n",
       " '!': 450,\n",
       " 'q': 219,\n",
       " '4': 80,\n",
       " 'C': 307,\n",
       " '5': 67,\n",
       " '6': 66,\n",
       " '(': 30,\n",
       " ')': 31,\n",
       " ':': 69,\n",
       " '7': 70,\n",
       " '8': 66,\n",
       " '9': 68,\n",
       " '1': 199,\n",
       " '0': 67,\n",
       " 'U': 190,\n",
       " '\"': 9,\n",
       " '\\\\': 19,\n",
       " '‘': 15,\n",
       " '•': 3,\n",
       " 'Z': 6,\n",
       " 'Q': 203,\n",
       " '■': 1,\n",
       " \"'\": 1}"
      ]
     },
     "execution_count": 10,
     "metadata": {},
     "output_type": "execute_result"
    }
   ],
   "source": [
    "statistics"
   ]
  },
  {
   "cell_type": "markdown",
   "metadata": {},
   "source": [
    "End of notebook. -CJB 9/15/19"
   ]
  },
  {
   "cell_type": "code",
   "execution_count": null,
   "metadata": {},
   "outputs": [],
   "source": []
  }
 ],
 "metadata": {
  "kernelspec": {
   "display_name": "Python 3",
   "language": "python",
   "name": "python3"
  },
  "language_info": {
   "codemirror_mode": {
    "name": "ipython",
    "version": 3
   },
   "file_extension": ".py",
   "mimetype": "text/x-python",
   "name": "python",
   "nbconvert_exporter": "python",
   "pygments_lexer": "ipython3",
   "version": "3.7.4"
  }
 },
 "nbformat": 4,
 "nbformat_minor": 2
}
