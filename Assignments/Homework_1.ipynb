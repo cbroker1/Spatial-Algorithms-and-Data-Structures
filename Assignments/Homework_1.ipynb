{
 "cells": [
  {
   "cell_type": "markdown",
   "metadata": {},
   "source": [
    "#### Name: {Broker}, {Carl}\n",
    "#### Assignment: {1}"
   ]
  },
  {
   "cell_type": "markdown",
   "metadata": {},
   "source": [
    "### Instructions\n",
    "For each assignment use the provided template.  Use proper markdown and coding syntax.  \n",
    "\n",
    "If you have note used Jupyter Notebooks before, please review: https://realpython.com/jupyter-notebook-introduction/"
   ]
  },
  {
   "cell_type": "markdown",
   "metadata": {},
   "source": [
    "_______________________________________________________________________________________________________________________________"
   ]
  },
  {
   "cell_type": "markdown",
   "metadata": {},
   "source": [
    "Questions: Data Structures and Algorithms textbook - Questions: R1.1 -1.4, C1.17, P 1.31"
   ]
  },
  {
   "cell_type": "markdown",
   "metadata": {},
   "source": [
    "R-1.1:  \n",
    "Write a short Python function, is multiple(n, m), that takes two integer\n",
    "values and returns True if n is a multiple of m, that is, n = mi for some\n",
    "integer i, and False otherwise."
   ]
  },
  {
   "cell_type": "code",
   "execution_count": 1,
   "metadata": {},
   "outputs": [
    {
     "name": "stdout",
     "output_type": "stream",
     "text": [
      "True\n",
      "False\n",
      "________________\n"
     ]
    }
   ],
   "source": [
    "def is_multiple(n, m):\n",
    "    if (n/m).is_integer():\n",
    "        return True\n",
    "    else:\n",
    "        return False\n",
    "        \n",
    "#proof of concept\n",
    "print(is_multiple(9, 3))\n",
    "print(is_multiple(10, 3))\n",
    "print('________________')"
   ]
  },
  {
   "cell_type": "markdown",
   "metadata": {},
   "source": [
    "R-1.2: \n",
    "Write a short Python function, is even(k), that takes an integer value and\n",
    "returns True if k is even, and False otherwise. However, your function\n",
    "cannot use the multiplication, modulo, or division operators."
   ]
  },
  {
   "cell_type": "code",
   "execution_count": 2,
   "metadata": {},
   "outputs": [
    {
     "name": "stdout",
     "output_type": "stream",
     "text": [
      "True\n",
      "False\n",
      "________________\n"
     ]
    }
   ],
   "source": [
    "def is_even(k):\n",
    "    if k & 1:\n",
    "        return False\n",
    "    else:\n",
    "        return True\n",
    "\n",
    "print(is_even(2))\n",
    "print(is_even(3))\n",
    "print('________________')"
   ]
  },
  {
   "cell_type": "markdown",
   "metadata": {},
   "source": [
    "R-1.3: Write a short Python function, minmax(data), that takes a sequence of\n",
    "one or more numbers, and returns the smallest and largest numbers, in the\n",
    "form of a tuple of length two. Do not use the built-in functions min or\n",
    "max in implementing your solution."
   ]
  },
  {
   "cell_type": "code",
   "execution_count": 3,
   "metadata": {},
   "outputs": [],
   "source": [
    "data = [1, 5, 3, 67, 2, 4, 0]\n",
    "\n",
    "def minmax(data):\n",
    "    largest = data[0]\n",
    "    smallest = data[0]\n",
    "    for item in data:\n",
    "        if item > largest:\n",
    "            largest = item\n",
    "        elif item < smallest:\n",
    "            smalles = item\n",
    "    return smallest, largest"
   ]
  },
  {
   "cell_type": "code",
   "execution_count": 4,
   "metadata": {},
   "outputs": [
    {
     "name": "stdout",
     "output_type": "stream",
     "text": [
      "(1, 67)\n"
     ]
    }
   ],
   "source": [
    "print(minmax(data))"
   ]
  },
  {
   "cell_type": "markdown",
   "metadata": {},
   "source": [
    "R-1.4: Write a short Python function that takes a positive integer n and returns\n",
    "the sum of the squares of all the positive integers smaller than n."
   ]
  },
  {
   "cell_type": "code",
   "execution_count": 5,
   "metadata": {},
   "outputs": [
    {
     "name": "stdout",
     "output_type": "stream",
     "text": [
      "14\n"
     ]
    }
   ],
   "source": [
    "def sum_of_squares(n):\n",
    "    n -= 1\n",
    "    total = 0\n",
    "    while n > 0:\n",
    "        total += n * n\n",
    "        n -= 1\n",
    "    return total\n",
    "\n",
    "print(sum_of_squares(4))"
   ]
  },
  {
   "cell_type": "markdown",
   "metadata": {},
   "source": [
    "C-1.17 Had we implemented the scale function (page 25) as follows, does it work\n",
    "properly?\n",
    "\n",
    "Explain why or why not."
   ]
  },
  {
   "cell_type": "code",
   "execution_count": 6,
   "metadata": {},
   "outputs": [],
   "source": [
    "def scale(data, factor):\n",
    "    for val in data:\n",
    "        val *= factor"
   ]
  },
  {
   "cell_type": "markdown",
   "metadata": {},
   "source": [
    "I would not work, val is a temporary variable. "
   ]
  },
  {
   "cell_type": "markdown",
   "metadata": {},
   "source": [
    "P-1.31 Write a Python program that can “make change.” Your program should\n",
    "take two numbers as input, one that is a monetary amount charged and the\n",
    "other that is a monetary amount given. It should then return the number\n",
    "of each kind of bill and coin to give back as change for the difference\n",
    "between the amount given and the amount charged. The values assigned\n",
    "to the bills and coins can be based on the monetary system of any current\n",
    "or former government. Try to design your program so that it returns as\n",
    "few bills and coins as possible."
   ]
  },
  {
   "cell_type": "code",
   "execution_count": 10,
   "metadata": {},
   "outputs": [
    {
     "name": "stdout",
     "output_type": "stream",
     "text": [
      "A quarter\n",
      "A dime\n",
      "A nickel\n",
      "A penny\n",
      "A penny\n",
      "A penny\n"
     ]
    }
   ],
   "source": [
    "starting_amount = 43\n",
    "\n",
    "remaining_amount = starting_amount\n",
    "while remaining_amount> 0:\n",
    "    if remaining_amount > 25:\n",
    "            remaining_amount -= 25\n",
    "            print(\"A quarter\")\n",
    "    elif remaining_amount > 10:\n",
    "        remaining_amount -= 10\n",
    "        print(\"A dime\")\n",
    "    elif remaining_amount > 5:\n",
    "        remaining_amount -= 5\n",
    "        print(\"A nickel\")\n",
    "    else:\n",
    "        remaining_amount -= 1\n",
    "        print (\"A penny\")"
   ]
  }
 ],
 "metadata": {
  "kernelspec": {
   "display_name": "Python 3",
   "language": "python",
   "name": "python3"
  },
  "language_info": {
   "codemirror_mode": {
    "name": "ipython",
    "version": 3
   },
   "file_extension": ".py",
   "mimetype": "text/x-python",
   "name": "python",
   "nbconvert_exporter": "python",
   "pygments_lexer": "ipython3",
   "version": "3.7.4"
  }
 },
 "nbformat": 4,
 "nbformat_minor": 2
}
