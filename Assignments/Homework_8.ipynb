{
 "cells": [
  {
   "cell_type": "markdown",
   "metadata": {},
   "source": [
    "#### Name: {Broker}, {Carl}\n",
    "#### Assignment: {8}"
   ]
  },
  {
   "cell_type": "markdown",
   "metadata": {},
   "source": [
    "### Instructions\n",
    "For each assignment use the provided template.  Use proper markdown and coding syntax.  \n",
    "\n",
    "If you have note used Jupyter Notebooks before, please review: https://realpython.com/jupyter-notebook-introduction/"
   ]
  },
  {
   "cell_type": "markdown",
   "metadata": {},
   "source": [
    "GIS Algorithms textbook\n",
    "\n",
    "Questions: R8.1, R8.5, P8.64"
   ]
  },
  {
   "cell_type": "markdown",
   "metadata": {},
   "source": [
    "# R 8.1: R-8.1 The following questions refer to the tree of Figure 8.3."
   ]
  },
  {
   "cell_type": "markdown",
   "metadata": {},
   "source": [
    "a. Which node is the root?\n",
    "b. What are the internal nodes?\n",
    "c. How many descendants does node cs016/ have?\n",
    "d. How many ancestors does node cs016/ have?\n",
    "e. What are the siblings of node homeworks/?\n",
    "f. Which nodes are in the subtree rooted at node projects/?\n",
    "g. What is the depth of node papers/?\n",
    "h. What is the height of the tree?"
   ]
  },
  {
   "cell_type": "markdown",
   "metadata": {},
   "source": [
    "a. /user/rt/courses/\n",
    "b. cs016/\n",
    "   homeworks/\n",
    "   programs/\n",
    "   cs252/\n",
    "   projects/\n",
    "   papers/\n",
    "   demos/\n",
    "c. 9\n",
    "d. 1, user/rt/courses/\n",
    "e. hw1 hw2 hw3\n",
    "f. papers/ demos/ buylow sellhigh market\n",
    "g. 3\n",
    "h. 4"
   ]
  },
  {
   "cell_type": "markdown",
   "metadata": {},
   "source": [
    "# R-8.5 Describe an algorithm, relying only on the BinaryTree operations, that counts the number of leaves in a binary tree that are the left child of their respective parent."
   ]
  },
  {
   "cell_type": "code",
   "execution_count": 1,
   "metadata": {},
   "outputs": [
    {
     "name": "stdout",
     "output_type": "stream",
     "text": [
      " 12\t\n",
      " 10\t\n",
      " 25\t\n",
      " 45\t\n"
     ]
    }
   ],
   "source": [
    "class Node: \n",
    "# generate new node\n",
    "    def __init__(self, data): \n",
    "        self.data = data \n",
    "        self.left = None\n",
    "        self.right = None\n",
    "\n",
    "# Recursive print of left number of leaves in a binary tree \n",
    "def LeftChildLeaf(root, level, max_level): \n",
    "      \n",
    "    # Base \n",
    "    if root is None: \n",
    "        return\n",
    "  \n",
    "    # If this is the first node of its level \n",
    "    if (max_level[0] < level): \n",
    "        print(\"% d\\t\" %(root.data)), \n",
    "        max_level[0] = level \n",
    "  \n",
    "    # Recur for left and right subtree \n",
    "    LeftChildLeaf(root.left, level + 1, max_level) \n",
    "    LeftChildLeaf(root.right, level + 1, max_level) \n",
    "\n",
    "# A wrapper over LeftChildLeaf wrap \n",
    "def LeftLeafOnly(root): \n",
    "    max_level = [0] \n",
    "    LeftChildLeaf(root, 1, max_level) \n",
    "\n",
    "# Test function below \n",
    "root = Node(12) \n",
    "root.left = Node(10) \n",
    "root.right = Node(20) \n",
    "root.right.left = Node(25) \n",
    "root.right.right = Node(40) \n",
    "root.right.right.left = Node(45)\n",
    "root.right.right.right = Node(48)\n",
    "\n",
    "LeftLeafOnly(root) "
   ]
  },
  {
   "cell_type": "markdown",
   "metadata": {},
   "source": [
    "# P-8.64 Implement the binary tree ADT using the array-based representation described in Section 8.3.2."
   ]
  },
  {
   "cell_type": "code",
   "execution_count": 2,
   "metadata": {},
   "outputs": [
    {
     "name": "stdout",
     "output_type": "stream",
     "text": [
      "8 5 7 8 5 1 6 6 1 6 2 7 9 "
     ]
    }
   ],
   "source": [
    "class Node:\n",
    "# generate new node\n",
    "    def __init__(self, data): \n",
    "        self.data = data  \n",
    "        self.left = None\n",
    "        self.right = None\n",
    "\n",
    "# Recursive function to insert nodes in level order  \n",
    "def insertNode(array, root, i, n): \n",
    "      \n",
    "    # Base case for recursion  \n",
    "    if i < n: \n",
    "        temp = Node(array[i])  \n",
    "        root = temp  \n",
    "        # insert left child  \n",
    "        root.left = insertNode(array, root.left, 2*i+1, n)  \n",
    "        # insert right child  \n",
    "        root.right = insertNode(array, root.right, 2*i+2, n) \n",
    "    return root \n",
    "  \n",
    "# Function to print tree nodes \n",
    "def inOrder(root): \n",
    "    if root != None: \n",
    "        inOrder(root.left)  \n",
    "        print(root.data,end=\" \")  \n",
    "        inOrder(root.right) \n",
    "        \n",
    "# testcase \n",
    "if __name__ == '__main__': \n",
    "    array = [6,8,7,5,1,6,9,8,7,5,6,1,2] \n",
    "    n = len(array) \n",
    "    root = None\n",
    "    root = insertNode(array, root, 0, n)  \n",
    "    inOrder(root) "
   ]
  },
  {
   "cell_type": "markdown",
   "metadata": {},
   "source": [
    "End of notebook. -CJB 10/27/19"
   ]
  }
 ],
 "metadata": {
  "kernelspec": {
   "display_name": "gis",
   "language": "python",
   "name": "gis"
  },
  "language_info": {
   "codemirror_mode": {
    "name": "ipython",
    "version": 3
   },
   "file_extension": ".py",
   "mimetype": "text/x-python",
   "name": "python",
   "nbconvert_exporter": "python",
   "pygments_lexer": "ipython3",
   "version": "3.7.4"
  }
 },
 "nbformat": 4,
 "nbformat_minor": 2
}
