{
 "cells": [
  {
   "cell_type": "markdown",
   "metadata": {},
   "source": [
    "#### Name: {Broker}, {Carl}\n",
    "#### Assignment: {4}"
   ]
  },
  {
   "cell_type": "markdown",
   "metadata": {},
   "source": [
    "### Instructions\n",
    "For each assignment use the provided template.  Use proper markdown and coding syntax.  \n",
    "\n",
    "If you have note used Jupyter Notebooks before, please review: https://realpython.com/jupyter-notebook-introduction/"
   ]
  },
  {
   "cell_type": "markdown",
   "metadata": {},
   "source": [
    "Question: 1. Write a Python program to compute the Manhattan (taxicab) distance between two points.\n",
    "          2. Describe the runtime analysis of the intersection of two lines."
   ]
  },
  {
   "cell_type": "markdown",
   "metadata": {},
   "source": [
    "# 1 Write a Python program to compute the Manhattan (taxicab) distance between two points."
   ]
  },
  {
   "cell_type": "code",
   "execution_count": null,
   "metadata": {},
   "outputs": [],
   "source": [
    "def distance(p0, p1):\n",
    "    return math.sqrt((p0[0] - p1[0])**2 + (p0[1] - p1[1])**2)"
   ]
  },
  {
   "cell_type": "markdown",
   "metadata": {},
   "source": [
    "# 2 Describe the runtime analysis of the intersection of two lines. "
   ]
  },
  {
   "cell_type": "markdown",
   "metadata": {},
   "source": [
    "(The below code is an exerpt from GIS Algorithms, listing 2.7)"
   ]
  },
  {
   "cell_type": "code",
   "execution_count": null,
   "metadata": {},
   "outputs": [],
   "source": [
    "from linesegment import *\n",
    "from sideplr import *\n",
    "\n",
    "def getIntersectionPoint(s1, s2):\n",
    "    x1 = float(s1.lp0.x)\n",
    "    y1 = float(s1.lp0.y)\n",
    "    x2 = float(s1.rp.x)\n",
    "    y2 = float(s1.rp.y)\n",
    "    x3 = float(s2.lp0.x)\n",
    "    y3 = float(s2.lp0.y)\n",
    "    x4 = float(s2.rp.x)\n",
    "    y4 = float(s2.rp.y)\n",
    "    if s1.lp < s2.lp:\n",
    "        x1,x2,y1,y2,x3,x4,y3,y4=x3,x4,y3,y4,x1,x2,y1,y2\n",
    "    if x1 != x2:\n",
    "        alpha1 = (y2-y1)/(x2-x1)\n",
    "    if x3 != x4:\n",
    "        alpha2 = (y4-y3)/(x4-x3)\n",
    "    if x1 == x2: # s1 is vertical\n",
    "        y = alpha2*(x1-x3)+y3\n",
    "        return Point([x1, y])\n",
    "    if x3==x4: # s2 is vertical\n",
    "        y = alpha1*(x3-x1)+y1\n",
    "        return Point([x3, y])\n",
    "    if alpha1 == alpha2: # parallel lines\n",
    "        return None\n",
    "    x = (alpha1*x1-alpha2*x3+y3-y1)/(alpha1-alpha2)\n",
    "    y = alpha1*(x-x1) + y1\n",
    "    return Point(x, y)\n",
    "\n",
    "def test_intersect(s1, s2):\n",
    "    if s1==None or s2==None:\n",
    "        return False\n",
    "    # testing: s2 endpoints on the same side of s1\n",
    "    lsign = sideplr(s2.lp0, s1.lp0, s1.rp)\n",
    "    rsign = sideplr(s2.rp, s1.lp0, s1.rp)\n",
    "    if lsign*rsign > 0:\n",
    "        return False\n",
    "    # testing: s1 endpoints on the same side of s2\n",
    "    lsign = sideplr(s1.lp0, s2.lp0, s2.rp)\n",
    "    rsign = sideplr(s1.rp, s2.lp0, s2.rp)\n",
    "    if lsign*rsign > 0:\n",
    "        return False\n",
    "    return True\n",
    "\n",
    " if __name__ == \"__main__\":\n",
    "    p1 = Point(1, 2)\n",
    "    p2 = Point(3, 4)\n",
    "    p3 = Point(2, 1)\n",
    "    p4 = Point(1, 4)\n",
    "    s1 = Segment(0, p1, p2)\n",
    "    s2 = Segment(1, p3, p4)\n",
    "    s3 = Segment(2, p1, p2)\n",
    "    if test_intersect(s1, s2):\n",
    "        print getIntersectionPoint(s1, s2)\n",
    "        print s1==s2\n",
    "        print s1==s3 "
   ]
  },
  {
   "cell_type": "markdown",
   "metadata": {},
   "source": [
    "The above code runs in two stages:\n",
    "\n",
    "  First it determines if the two supplied line segments will intersect, via the sldepir package. From this package the program calculates if both endpoints of a segment are on the same side of the other segment (from both endpoints). If this is the case, there will not be an intersection. Conversley, if they are not on the same side of the other segment then the program continues to its second stage. \n",
    "  \n",
    "  Second, the above code executes the getIntersectionPoint() function to calculate the intersection of the two lines. "
   ]
  },
  {
   "cell_type": "markdown",
   "metadata": {},
   "source": [
    "End of notebook. -CJB 9/29/19"
   ]
  }
 ],
 "metadata": {
  "kernelspec": {
   "display_name": "Python 3",
   "language": "python",
   "name": "python3"
  },
  "language_info": {
   "codemirror_mode": {
    "name": "ipython",
    "version": 3
   },
   "file_extension": ".py",
   "mimetype": "text/x-python",
   "name": "python",
   "nbconvert_exporter": "python",
   "pygments_lexer": "ipython3",
   "version": "3.7.4"
  }
 },
 "nbformat": 4,
 "nbformat_minor": 2
}
