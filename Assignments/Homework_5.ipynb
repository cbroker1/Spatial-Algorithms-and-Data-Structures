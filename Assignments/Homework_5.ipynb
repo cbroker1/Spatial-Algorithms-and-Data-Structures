{
 "cells": [
  {
   "cell_type": "markdown",
   "metadata": {},
   "source": [
    "#### Name: {Broker}, {Carl}\n",
    "#### Assignment: {5}"
   ]
  },
  {
   "cell_type": "markdown",
   "metadata": {},
   "source": [
    "### Instructions\n",
    "For each assignment use the provided template.  Use proper markdown and coding syntax.  \n",
    "\n",
    "If you have note used Jupyter Notebooks before, please review: https://realpython.com/jupyter-notebook-introduction/"
   ]
  },
  {
   "cell_type": "markdown",
   "metadata": {},
   "source": [
    "Data Structures and Algorithms textbook\n",
    "\n",
    "Questions R4.1, C4.14"
   ]
  },
  {
   "cell_type": "markdown",
   "metadata": {},
   "source": [
    "# R4.1"
   ]
  },
  {
   "cell_type": "markdown",
   "metadata": {},
   "source": [
    "Describe a recursive algorithm for finding the maximum element in a sequence, S, of n elements. What is your running time and space usage?"
   ]
  },
  {
   "cell_type": "code",
   "execution_count": 1,
   "metadata": {},
   "outputs": [
    {
     "name": "stdout",
     "output_type": "stream",
     "text": [
      "8\n",
      "888\n"
     ]
    }
   ],
   "source": [
    "def rec_find_max(S,index):\n",
    "    if index == len(S)-1:\n",
    "        return S[index]\n",
    "    return max(S[index], rec_find_max(S, index+1))  #note the recursive section here\n",
    "\n",
    "def find_max(S):\n",
    "    return rec_find_max(S, 0)\n",
    "    \n",
    "print(find_max([-1,2,3,4,5,6,7,8]))\n",
    "print(find_max([0,2,3,4,5,6,7,888]))\n",
    "\n",
    "# Time Complexity is O(n)\n",
    "# Space useage is also O(n)"
   ]
  },
  {
   "cell_type": "markdown",
   "metadata": {},
   "source": [
    "# 2 C4.14"
   ]
  },
  {
   "cell_type": "markdown",
   "metadata": {},
   "source": [
    "In the Towers of Hanoi puzzle, we are given a platform with three pegs, a,\n",
    "b, and c, sticking out of it. On peg a is a stack of n disks, each larger than\n",
    "the next, so that the smallest is on the top and the largest is on the bottom.\n",
    "The puzzle is to move all the disks from peg a to peg c, moving one disk\n",
    "at a time, so that we never place a larger disk on top of a smaller one.\n",
    "See Figure 4.15 for an example of the case n = 4. Describe a recursive\n",
    "algorithm for solving the Towers of Hanoi puzzle for arbitrary n. (Hint:\n",
    "Consider first the subproblem of moving all but the nth disk from peg a to\n",
    "another peg using the third as “temporary storage.”)"
   ]
  },
  {
   "cell_type": "code",
   "execution_count": 2,
   "metadata": {
    "scrolled": false
   },
   "outputs": [
    {
     "name": "stdout",
     "output_type": "stream",
     "text": [
      "One Ring: \n",
      "move ring from Tower A to Tower B \n",
      "--------------------------------------\n",
      "Two Rings:\n",
      "move ring from Tower A to Tower C \n",
      "move ring from Tower A to Tower B \n",
      "move ring from Tower C to Tower B \n",
      "--------------------------------------\n",
      "Three Rings:\n",
      "move ring from Tower A to Tower B \n",
      "move ring from Tower A to Tower C \n",
      "move ring from Tower B to Tower C \n",
      "move ring from Tower A to Tower B \n",
      "move ring from Tower C to Tower A \n",
      "move ring from Tower C to Tower B \n",
      "move ring from Tower A to Tower B \n",
      "--------------------------------------\n",
      "Four Rings:\n",
      "move ring from Tower A to Tower C \n",
      "move ring from Tower A to Tower B \n",
      "move ring from Tower C to Tower B \n",
      "move ring from Tower A to Tower C \n",
      "move ring from Tower B to Tower A \n",
      "move ring from Tower B to Tower C \n",
      "move ring from Tower A to Tower C \n",
      "move ring from Tower A to Tower B \n",
      "move ring from Tower C to Tower B \n",
      "move ring from Tower C to Tower A \n",
      "move ring from Tower B to Tower A \n",
      "move ring from Tower C to Tower B \n",
      "move ring from Tower A to Tower C \n",
      "move ring from Tower A to Tower B \n",
      "move ring from Tower C to Tower B \n",
      "--------------------------------------\n",
      "Five Rings:\n",
      "move ring from Tower A to Tower B \n",
      "move ring from Tower A to Tower C \n",
      "move ring from Tower B to Tower C \n",
      "move ring from Tower A to Tower B \n",
      "move ring from Tower C to Tower A \n",
      "move ring from Tower C to Tower B \n",
      "move ring from Tower A to Tower B \n",
      "move ring from Tower A to Tower C \n",
      "move ring from Tower B to Tower C \n",
      "move ring from Tower B to Tower A \n",
      "move ring from Tower C to Tower A \n",
      "move ring from Tower B to Tower C \n",
      "move ring from Tower A to Tower B \n",
      "move ring from Tower A to Tower C \n",
      "move ring from Tower B to Tower C \n",
      "move ring from Tower A to Tower B \n",
      "move ring from Tower C to Tower A \n",
      "move ring from Tower C to Tower B \n",
      "move ring from Tower A to Tower B \n",
      "move ring from Tower C to Tower A \n",
      "move ring from Tower B to Tower C \n",
      "move ring from Tower B to Tower A \n",
      "move ring from Tower C to Tower A \n",
      "move ring from Tower C to Tower B \n",
      "move ring from Tower A to Tower B \n",
      "move ring from Tower A to Tower C \n",
      "move ring from Tower B to Tower C \n",
      "move ring from Tower A to Tower B \n",
      "move ring from Tower C to Tower A \n",
      "move ring from Tower C to Tower B \n",
      "move ring from Tower A to Tower B \n"
     ]
    }
   ],
   "source": [
    "def printMove(fr, to):\n",
    "    print('move ring from '+str(fr)+'to '+str(to))\n",
    "    \n",
    "def Towers(n, fr, to, spare):\n",
    "    if n==1:\n",
    "        printMove(fr,to)\n",
    "    else:\n",
    "        Towers(n-1, fr, spare, to)\n",
    "        Towers(1, fr, to, spare)\n",
    "        Towers(n-1, spare, to, fr)\n",
    "        \n",
    "#Towers(Number of rings, Tower A, Tower B, Tower C)\n",
    "print('One Ring: ')\n",
    "Towers(1, 'Tower A ', 'Tower B ', 'Tower C ')\n",
    "print('--------------------------------------')\n",
    "\n",
    "print('Two Rings:')\n",
    "Towers(2, 'Tower A ', 'Tower B ', 'Tower C ')\n",
    "print('--------------------------------------')\n",
    "\n",
    "print('Three Rings:')\n",
    "Towers(3, 'Tower A ', 'Tower B ', 'Tower C ')\n",
    "print('--------------------------------------')\n",
    "\n",
    "print('Four Rings:')\n",
    "Towers(4, 'Tower A ', 'Tower B ', 'Tower C ')\n",
    "print('--------------------------------------')\n",
    "\n",
    "print('Five Rings:')\n",
    "Towers(5, 'Tower A ', 'Tower B ', 'Tower C ')\n",
    "\n",
    "#Time complexity is O(2**n)"
   ]
  },
  {
   "cell_type": "markdown",
   "metadata": {},
   "source": [
    "End of notebook. -CJB 10/6/19"
   ]
  }
 ],
 "metadata": {
  "kernelspec": {
   "display_name": "Python 3",
   "language": "python",
   "name": "python3"
  },
  "language_info": {
   "codemirror_mode": {
    "name": "ipython",
    "version": 3
   },
   "file_extension": ".py",
   "mimetype": "text/x-python",
   "name": "python",
   "nbconvert_exporter": "python",
   "pygments_lexer": "ipython3",
   "version": "3.7.4"
  }
 },
 "nbformat": 4,
 "nbformat_minor": 2
}
