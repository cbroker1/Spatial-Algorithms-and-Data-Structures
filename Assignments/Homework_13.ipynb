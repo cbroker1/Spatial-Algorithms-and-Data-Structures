{
 "cells": [
  {
   "cell_type": "markdown",
   "metadata": {},
   "source": [
    "#### Name: {Broker}, {Carl}\n",
    "#### Assignment: {13}"
   ]
  },
  {
   "cell_type": "markdown",
   "metadata": {},
   "source": [
    "### Instructions\n",
    "For each assignment use the provided template.  Use proper markdown and coding syntax.  \n",
    "\n",
    "If you have note used Jupyter Notebooks before, please review: https://realpython.com/jupyter-notebook-introduction/"
   ]
  },
  {
   "cell_type": "markdown",
   "metadata": {},
   "source": [
    "# Questions: R14.6, R14.16, R14.12"
   ]
  },
  {
   "cell_type": "code",
   "execution_count": 1,
   "metadata": {},
   "outputs": [],
   "source": [
    "# Copyright 2013, Michael H. Goldwasser\n",
    "#\n",
    "# Developed for use with the book:\n",
    "#\n",
    "#    Data Structures and Algorithms in Python\n",
    "#    Michael T. Goodrich, Roberto Tamassia, and Michael H. Goldwasser\n",
    "#    John Wiley & Sons, 2013\n",
    "#\n",
    "# This program is free software: you can redistribute it and/or modify\n",
    "# it under the terms of the GNU General Public License as published by\n",
    "# the Free Software Foundation, either version 3 of the License, or\n",
    "# (at your option) any later version.\n",
    "#\n",
    "# This program is distributed in the hope that it will be useful,\n",
    "# but WITHOUT ANY WARRANTY; without even the implied warranty of\n",
    "# MERCHANTABILITY or FITNESS FOR A PARTICULAR PURPOSE.  See the\n",
    "# GNU General Public License for more details.\n",
    "#\n",
    "# You should have received a copy of the GNU General Public License\n",
    "# along with this program.  If not, see <http://www.gnu.org/licenses/>.\n",
    "\n",
    "class Graph:\n",
    "  \"\"\"Representation of a simple graph using an adjacency map.\"\"\"\n",
    "\n",
    "  #------------------------- nested Vertex class -------------------------\n",
    "  class Vertex:\n",
    "    \"\"\"Lightweight vertex structure for a graph.\"\"\"\n",
    "    __slots__ = '_element'\n",
    "  \n",
    "    def __init__(self, x):\n",
    "      \"\"\"Do not call constructor directly. Use Graph's insert_vertex(x).\"\"\"\n",
    "      self._element = x\n",
    "  \n",
    "    def element(self):\n",
    "      \"\"\"Return element associated with this vertex.\"\"\"\n",
    "      return self._element\n",
    "  \n",
    "    def __hash__(self):         # will allow vertex to be a map/set key\n",
    "      return hash(id(self))\n",
    "\n",
    "    def __str__(self):\n",
    "      return str(self._element)\n",
    "    \n",
    "  #------------------------- nested Edge class -------------------------\n",
    "  class Edge:\n",
    "    \"\"\"Lightweight edge structure for a graph.\"\"\"\n",
    "    __slots__ = '_origin', '_destination', '_element'\n",
    "  \n",
    "    def __init__(self, u, v, x):\n",
    "      \"\"\"Do not call constructor directly. Use Graph's insert_edge(u,v,x).\"\"\"\n",
    "      self._origin = u\n",
    "      self._destination = v\n",
    "      self._element = x\n",
    "  \n",
    "    def endpoints(self):\n",
    "      \"\"\"Return (u,v) tuple for vertices u and v.\"\"\"\n",
    "      return (self._origin, self._destination)\n",
    "  \n",
    "    def opposite(self, v):\n",
    "      \"\"\"Return the vertex that is opposite v on this edge.\"\"\"\n",
    "      if not isinstance(v, Graph.Vertex):\n",
    "        raise TypeError('v must be a Vertex')\n",
    "      return self._destination if v is self._origin else self._origin\n",
    "      raise ValueError('v not incident to edge')\n",
    "  \n",
    "    def element(self):\n",
    "      \"\"\"Return element associated with this edge.\"\"\"\n",
    "      return self._element\n",
    "  \n",
    "    def __hash__(self):         # will allow edge to be a map/set key\n",
    "      return hash( (self._origin, self._destination) )\n",
    "\n",
    "    def __str__(self):\n",
    "      return '({0},{1},{2})'.format(self._origin,self._destination,self._element)\n",
    "    \n",
    "  #------------------------- Graph methods -------------------------\n",
    "  def __init__(self, directed=False):\n",
    "    \"\"\"Create an empty graph (undirected, by default).\n",
    "\n",
    "    Graph is directed if optional paramter is set to True.\n",
    "    \"\"\"\n",
    "    self._outgoing = {}\n",
    "    # only create second map for directed graph; use alias for undirected\n",
    "    self._incoming = {} if directed else self._outgoing\n",
    "\n",
    "  def _validate_vertex(self, v):\n",
    "    \"\"\"Verify that v is a Vertex of this graph.\"\"\"\n",
    "    if not isinstance(v, self.Vertex):\n",
    "      raise TypeError('Vertex expected')\n",
    "    if v not in self._outgoing:\n",
    "      raise ValueError('Vertex does not belong to this graph.')\n",
    "    \n",
    "  def is_directed(self):\n",
    "    \"\"\"Return True if this is a directed graph; False if undirected.\n",
    "\n",
    "    Property is based on the original declaration of the graph, not its contents.\n",
    "    \"\"\"\n",
    "    return self._incoming is not self._outgoing # directed if maps are distinct\n",
    "\n",
    "  def vertex_count(self):\n",
    "    \"\"\"Return the number of vertices in the graph.\"\"\"\n",
    "    return len(self._outgoing)\n",
    "\n",
    "  def vertices(self):\n",
    "    \"\"\"Return an iteration of all vertices of the graph.\"\"\"\n",
    "    return self._outgoing.keys()\n",
    "\n",
    "  def edge_count(self):\n",
    "    \"\"\"Return the number of edges in the graph.\"\"\"\n",
    "    total = sum(len(self._outgoing[v]) for v in self._outgoing)\n",
    "    # for undirected graphs, make sure not to double-count edges\n",
    "    return total if self.is_directed() else total // 2\n",
    "\n",
    "  def edges(self):\n",
    "    \"\"\"Return a set of all edges of the graph.\"\"\"\n",
    "    result = set()       # avoid double-reporting edges of undirected graph\n",
    "    for secondary_map in self._outgoing.values():\n",
    "      result.update(secondary_map.values())    # add edges to resulting set\n",
    "    return result\n",
    "\n",
    "  def get_edge(self, u, v):\n",
    "    \"\"\"Return the edge from u to v, or None if not adjacent.\"\"\"\n",
    "    self._validate_vertex(u)\n",
    "    self._validate_vertex(v)\n",
    "    return self._outgoing[u].get(v)        # returns None if v not adjacent\n",
    "\n",
    "  def degree(self, v, outgoing=True):   \n",
    "    \"\"\"Return number of (outgoing) edges incident to vertex v in the graph.\n",
    "\n",
    "    If graph is directed, optional parameter used to count incoming edges.\n",
    "    \"\"\"\n",
    "    self._validate_vertex(v)\n",
    "    adj = self._outgoing if outgoing else self._incoming\n",
    "    return len(adj[v])\n",
    "\n",
    "  def incident_edges(self, v, outgoing=True):   \n",
    "    \"\"\"Return all (outgoing) edges incident to vertex v in the graph.\n",
    "\n",
    "    If graph is directed, optional parameter used to request incoming edges.\n",
    "    \"\"\"\n",
    "    self._validate_vertex(v)\n",
    "    adj = self._outgoing if outgoing else self._incoming\n",
    "    for edge in adj[v].values():\n",
    "      yield edge\n",
    "\n",
    "  def insert_vertex(self, x=None):\n",
    "    \"\"\"Insert and return a new Vertex with element x.\"\"\"\n",
    "    v = self.Vertex(x)\n",
    "    self._outgoing[v] = {}\n",
    "    if self.is_directed():\n",
    "      self._incoming[v] = {}        # need distinct map for incoming edges\n",
    "    return v\n",
    "      \n",
    "  def insert_edge(self, u, v, x=None):\n",
    "    \"\"\"Insert and return a new Edge from u to v with auxiliary element x.\n",
    "\n",
    "    Raise a ValueError if u and v are not vertices of the graph.\n",
    "    Raise a ValueError if u and v are already adjacent.\n",
    "    \"\"\"\n",
    "    if self.get_edge(u, v) is not None:      # includes error checking\n",
    "      raise ValueError('u and v are already adjacent')\n",
    "    e = self.Edge(u, v, x)\n",
    "    self._outgoing[u][v] = e\n",
    "    self._incoming[v][u] = e"
   ]
  },
  {
   "cell_type": "markdown",
   "metadata": {},
   "source": [
    "# R14.6 Suppose we represent a graph G having n vertices and m edges with the edge list structure. Why, in this case, does the insert_vertex method run in O(1) time while the remove_vertex method runs in O(m) time?"
   ]
  },
  {
   "cell_type": "markdown",
   "metadata": {},
   "source": [
    "Answer:\n",
    "    \n",
    "The insert_vertex function runs in O(1) time because inserting a new vertex requires only the insertion of the new vertex followed by the insertion of its corresponding edges (both take O(1) time).\n",
    "\n",
    "The remove_vertex function takes O(m) time because when removing a vertex, the edges need to be removed or updated so that they are not referenced. Each edge in the list must be checked. As a result the time taken for removing a vertex takes O(m) where m is the number of edges. "
   ]
  },
  {
   "cell_type": "markdown",
   "metadata": {},
   "source": [
    "# R14.12 Explain why the DFS traversal runs in O(n2) time on an n-vertex simple graph that is represented with the adjacency matrix structure."
   ]
  },
  {
   "cell_type": "markdown",
   "metadata": {},
   "source": [
    "Answer:\n",
    "\n",
    "We have a connected graph with V nodes and E edges. In DFS, we need to traverse across each node exactly once. Therefore, the time complexity is at least O(V).\n",
    "\n",
    "Increased complexity comes from the way in which we find all the paths/edges for each node, this depends on the way the graph is implemented. If an edge leads you to a node that has already been traversed, we skip it and check the next node. DFS traversals use a hash table to maintain a list of traversed nodes so we may quickly find out if we have encountered a node before in O(1) time. \n",
    "\n",
    "If we are using an adjacency matrix (a V x V array), then for each node we traverse an entire for of length V in the matrix to find all of its outgoing edges. Each row corresponds to a node in the graph, as well as information about edges stemming from the node. The complexity of DFS is O(V * V) = O(V^2).\n",
    "\n",
    "When representing a graph with an agency matrix we use a \"n x n\" matrix. When running a DFS, we traverse the row relative to that vertex to find all neighboring vertices. We only travers the neighboring vertices of the vertex. The complexity becomes O(n2)."
   ]
  },
  {
   "cell_type": "markdown",
   "metadata": {},
   "source": [
    "# R14.16"
   ]
  },
  {
   "cell_type": "markdown",
   "metadata": {},
   "source": [
    "Let G be an undirected graph whose vertices are the integers 1 through 8,\n",
    "and let the adjacent vertices of each vertex be given by the table below:\n",
    "vertex adjacent vertices\n",
    "1 (2, 3, 4)\n",
    "2 (1, 3, 4)\n",
    "3 (1, 2, 4)\n",
    "4 (1, 2, 3, 6)\n",
    "5 (6, 7, 8)\n",
    "6 (4, 5, 7)\n",
    "7 (5, 6, 8)\n",
    "8 (5, 7)\n",
    "Assume that, in a traversal of G, the adjacent vertices of a given vertex are\n",
    "returned in the same order as they are listed in the table above.\n",
    "a. Draw G.\n",
    "b. Give the sequence of vertices of G visited using a DFS traversal\n",
    "starting at vertex 1.\n",
    "c. Give the sequence of vertices visited using a BFS traversal starting\n",
    "at vertex 1."
   ]
  },
  {
   "attachments": {
    "graph.png": {
     "image/png": "[encoded data removed]"
    }
   },
   "cell_type": "markdown",
   "metadata": {},
   "source": [
    "a.![graph.png](attachment:graph.png)\n",
    "\n",
    "b.The sequence of vertices visited using DFS: 1,2,3,4,6,5,7,8.\n",
    "\n",
    "c.The sequences of vertcies vised using BFS:1,2,3,4,6,5,7,8."
   ]
  },
  {
   "cell_type": "markdown",
   "metadata": {},
   "source": [
    "End of notebook. -CJB 12/8/19"
   ]
  }
 ],
 "metadata": {
  "kernelspec": {
   "display_name": "gis",
   "language": "python",
   "name": "gis"
  },
  "language_info": {
   "codemirror_mode": {
    "name": "ipython",
    "version": 3
   },
   "file_extension": ".py",
   "mimetype": "text/x-python",
   "name": "python",
   "nbconvert_exporter": "python",
   "pygments_lexer": "ipython3",
   "version": "3.7.4"
  }
 },
 "nbformat": 4,
 "nbformat_minor": 2
}
